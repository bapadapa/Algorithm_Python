{
 "cells": [
  {
   "cell_type": "markdown",
   "metadata": {},
   "source": [
    "파이썬 개념정리를 해보자!\n"
   ]
  },
  {
   "cell_type": "markdown",
   "metadata": {},
   "source": [
    "# Python 특징\n",
    "##### High-level\n",
    "##### Interpreted\n",
    "##### Interactive\n",
    "##### Object Oriented\n",
    "##### Script Language\n",
    "---\n",
    "## Python Built-in 데이터 타입\n",
    "##### Numeric Types\n",
    "- integer ( 정수형 )\n",
    "- float ( 실수형 )\n",
    "- complex number ( 허수형 )\n",
    "\n",
    "##### Booleans\n",
    "- true (참)\n",
    "- false(거짓)\n",
    "##### Sequence Types ( 배열들...?)\n",
    "- list ( c++의 vector, Java의 arrayList와 유사 ,삽입삭제 가능)\n",
    "- tuple \n",
    "\n",
    "##### Text Sequence Types \n",
    "- string\n",
    "\n",
    "##### Set Types\n",
    "- set\n",
    "- frozenset\n",
    "\n",
    "##### Mapping Types\n",
    "- dictionary"
   ]
  },
  {
   "cell_type": "markdown",
   "metadata": {},
   "source": [
    "# 파이썬 설치\n",
    "\n",
    "- Anaconda\n",
    "    - 데이터 분석을 위한 기본 패키지를 자동 설치\n",
    "    - Numpy : 수치연산 ( 행렬 및 배열 )\n",
    "    - Pandas : 데이터 전처리\n",
    "    - matplotlib : 데이터의 시각화 ( Seaborn을 인스톨하면 쉽게 데이터 분석용 시각화 지원 )\n",
    "    - sclikit- learn : 머신러닝을 위한 종합패키지\n",
    "- 필요한 패키지가 있을 경우 설치 방법\n",
    "    - Python의 pip를 이용\n",
    "        - pip install [패키지명]\n",
    "    - Anaconda를 이용할 경우\n",
    "        - conda install [패키지명]\n",
    "    - python repository\n",
    "        - https://pypi.org/\n",
    "        - github repository - python의 setuptools를 이용"
   ]
  },
  {
   "cell_type": "markdown",
   "metadata": {
    "cell_style": "center"
   },
   "source": [
    "# 기본 입출력\n",
    "\n",
    "## 입력\n",
    "- 사용 메소드 : input()\n",
    "    - 사용시에 input()으로 받으면 일반적으로 string으로 입력된다. 그럼으로 정수형으로 변경하고 싶다면, 형변환을 해 주어야 한다.  \n",
    "        - ex) num = int( input() )   \n",
    "    -  2개 이상을 입력받고 싶다면 split()을 이용하면 된다. \n",
    "        - num1 , num2 = input(추력문 (default == 공백) ).split( 구분자 (default == 공백) )\n",
    "    - 여러개를 입력받는데, 모두 형 변환을 해 주고싶다면 map을 이용하면 좋다\n",
    "        - num1 , num2 = map( 함수 / 자료형 , input().split() )\n",
    "        \n",
    "## 출력 \n",
    "- 사용 메소드 :  print( 출력하고자 하는 변수 혹은 스트링 )\n",
    "- 콘솔창에 출력하고자 할 때 사용하면 된다.\n",
    "\n",
    "## 주석 : \\#\n",
    "- 인터프리터가 처리하지 않은 텍스트로 만드는 작업 ( 주로 설명등을 작성할 떄 사용 )\n",
    "\n",
    "- #을 가장 앞에 삽입하면 주석처리가 된다\n",
    "    - \\# 뒤로는 모두 주석처리가 된다.\n",
    "\n",
    "## 들여쓰기 / 코드 블록\n",
    "- 기본적으로 간격을 띄워서 가독성을 높히는데 이용한다. \n",
    "    - 하지만 파이썬에서는 들여쓰기로 블록을 구분하기 때문에 들여쓰기를 잘 해야한다.\n",
    "- indent 방법\n",
    "    - 스페이스바 4번을 이용 혹은, tap키를 이용한다\n",
    "    "
   ]
  },
  {
   "cell_type": "markdown",
   "metadata": {},
   "source": [
    "# 숫자 계산\n",
    "\n",
    "## 자료형\n",
    "- 자료형은 정수( int ) , 실수 ( float ) , 복소수 ( complex )가 있다.\n",
    "\n",
    "## 연산자\n",
    "### 산술연산자\n",
    "- \\+ : 더하기\n",
    "- \\- : 빼기\n",
    "- \\* : 곱하기 ( ** 를 이용하면 거듭제곱이 된다. )\n",
    "- \\/ : 나누기 ( //를 이용하면 소숫점 미만을 버린다. )\n",
    "- \\% : 나머지\n",
    "    - 만약 나머지와 몫을 구하고 싶다면 divmod( Num1 , Num2 ) 메소드를 이용하면 된다.\n",
    "        - quotient, remainder = divmod( 5 , 2 )\n",
    "        \n",
    "### 비교 연산자\n",
    "- < , > , <= , >= , == , !=\n",
    "\n",
    "### 논리연산자\n",
    "- and(논리곱) , or(논리합)\n",
    "\n",
    "    \n",
    "## 자료형\n",
    "- 자료형 또는 데이터 타입은 컴퓨터 과학과 프로그래밍 언어에서 실수치, 정수, 불린 자료형 따위의 여러 종류의 데이터를 식별하는 분류이다.\n",
    "\n",
    "- 형변환 방법 : int ,float 등 을 이용하여 형변환 시켜준다\n",
    "    - int (변수) , float( 변수 ) , char ( 변수 )..\n",
    "- 자료형을 알아내는 방법\n",
    "    -type ( 변수 ) \n"
   ]
  },
  {
   "cell_type": "markdown",
   "metadata": {},
   "source": [
    "\n",
    "# 변수\n",
    "- 변수의 의미\n",
    "    - 값을 참조할 수 있도록 저장하는 메모리 공간\n",
    "- 변수명\n",
    "    - 변수에 접근하고 할당 받은 값을 저장하거나 그곳에 있는 값을 읽기 위해\n",
    "      지정한 이름\n",
    "- 변수 선언\n",
    "    - 오른쪽에 변수명을 정의하고 할당연산자를 사용해서 변수 값을 왼쪽에 대입한다.\n",
    "        - Ex) [변수명] = [대입 값]\n",
    "    - 저장할 공간을 할당하고 이름을 붙이는 것을 변수 선언이라고 함\n",
    "    - 변수명 = 대입값\n",
    "    - python은 대입값에 따라 자동으로 변수 타입 결정 ( 만약 빈 변수를 만들고 싶다면 none을 삽입한다)\n",
    "- 변수 명명 규칙\n",
    "    - 첫글자는 영문 소문자로 하며, 숫자나 특수기호 제외\n",
    "    - 예약어는 변수명으로 사용불가\n",
    "    - 변수명내 공백불가\n",
    "    - 대소문자 구분주의    \n",
    "  "
   ]
  },
  {
   "cell_type": "markdown",
   "metadata": {},
   "source": [
    "## Sequence Types(Lists)\n",
    "- 리스트는 대괄호로 표현\n",
    "    - 생성 : []\n",
    "    - 조회 : 리스트객체[인덱스슬라이싱]\n",
    "- 대괄호 내에 ,(콤마)를 사용하여 항목을 구분\n",
    "- 내부 요소 변경 가능\n",
    "- 일반적으로 동질적인 데이터 집합에 사용을 권장"
   ]
  },
  {
   "cell_type": "code",
   "execution_count": null,
   "metadata": {},
   "outputs": [],
   "source": [
    "# l이라는 리스트 객체 생성, 객체에는 1,2,3원소 사용\n",
    "l = [1,2,3]\n",
    "# l 객체에서 첫번째 원소 조회\n",
    "l[0]\n",
    "# l 객체에서 처음부터 두번째 원소까지 조회\n",
    "l[0:2]\n",
    "# l 객체에서 두번째에서 세번 원소까지 조회실행"
   ]
  },
  {
   "cell_type": "markdown",
   "metadata": {},
   "source": [
    "## Mapping Type(Dictionary)\n",
    "- 딕셔너리는 중괄호로 표현 {}\n",
    "- key:value 쌍 형식\n",
    "- dictionary를 생성하는 방법\n",
    "    - dict()\n",
    "    - dict(k1='a',k2='b')\n",
    "    - {'k1':'a','k2':'b'}\n",
    "- 조회시 key값으로 조회\n",
    "    - dict[key]\n",
    "- 요소 추가 혹은 변경시 : dict[key] = value"
   ]
  },
  {
   "cell_type": "code",
   "execution_count": 3,
   "metadata": {
    "ExecuteTime": {
     "end_time": "2021-04-28T04:05:09.377949Z",
     "start_time": "2021-04-28T04:05:09.356009Z"
    }
   },
   "outputs": [
    {
     "data": {
      "text/plain": [
       "'one'"
      ]
     },
     "execution_count": 3,
     "metadata": {},
     "output_type": "execute_result"
    }
   ],
   "source": [
    "# d라는 객체 생성, key - 'one','two','three', value - 1,2,3 \n",
    "d = {'one':1,'two':2,'three':3}\n",
    "d = dict(one=1,two=2,three=3)\n",
    "d['one'] = 'one'\n",
    "d['one']\n",
    "# 하나의 key에 여러개의 value값을 갖는 dictionary 객체 생성 실행"
   ]
  },
  {
   "cell_type": "markdown",
   "metadata": {},
   "source": [
    "## 조건문\n",
    "- if ~ elif ~ else 구조\n",
    "    - 문법<br>\n",
    "     if 조건문1: <br>\n",
    "      <sub>[indent]</sub>수행문장<br>\n",
    "     elif 조건문2:<br>\n",
    "      <sub>[indent]</sub>수행문장<br>\n",
    "     else:<br>\n",
    "      <sub>[indent]</sub>수행문장<br>\n",
    "    - 조건식이 True일 때 하위문장을 수행하고 False일 때는 pass함\n",
    "    - if는 조건문의 시작을 알리는 키워드로 필수\n",
    "    - elif 키워드는 생략가능 중복하여 여러 조건식을 사용\n",
    "    - else는 생략 가능하지만 중복 불가\n",
    "- 3항연산(중요하지는 않지만 다른 사람이 작성한 코드를 해석시 필요)\n",
    "    - and (when True) or (when False)\n",
    "    - (when True) if 조건식 else (when False)"
   ]
  },
  {
   "cell_type": "code",
   "execution_count": 4,
   "metadata": {
    "ExecuteTime": {
     "end_time": "2021-04-28T04:05:46.898573Z",
     "start_time": "2021-04-28T04:05:46.884006Z"
    }
   },
   "outputs": [
    {
     "name": "stdout",
     "output_type": "stream",
     "text": [
      "success\n",
      "fail\n"
     ]
    },
    {
     "data": {
      "text/plain": [
       "30"
      ]
     },
     "execution_count": 4,
     "metadata": {},
     "output_type": "execute_result"
    }
   ],
   "source": [
    "## 참일경우 success를 출력하는 문장\n",
    "if True:\n",
    "    print('success')\n",
    "else:\n",
    "    print('fail')\n",
    "## 거짓일 경우 fail을 출력하는 문장 실행\n",
    "if False:\n",
    "    print('success')\n",
    "else:\n",
    "    print('fail')\n",
    "## 3항연산 \n",
    "# a=10, b=20 일경우 a와 b가 같을경우 a-b의 문장을 수행\n",
    "# 그렇지 않을 경우 a+b문장을 수행\n",
    "a = 10\n",
    "b = 20\n",
    "a == b and (a-b) or (a+b)\n",
    "## 위 조건을 (when True) if 조건식 else (when False)를 사용하여 실행"
   ]
  },
  {
   "cell_type": "markdown",
   "metadata": {},
   "source": [
    "## 반복문\n",
    "\n",
    "### for문\n",
    "- 문법\n",
    "\n",
    "    for 반복자 in 반복객체:<br>\n",
    "    <sub>[indent]</sub> 반복자를 활용한 문장(반복자는 필수가 아님)\n",
    "\n",
    "- break\n",
    "    - 반복문 수행 도중 break문을 만나게 되면 반복문을 종료\n",
    "    - break를 위해 조건문을 사용\n",
    "- contiue \n",
    "    - 반복문을 수행하는 도중에 continue문을 만나면 반복문의 처음으로 돌아 가게 됨\n",
    "    - continue를 위해 조건문을 사용"
   ]
  },
  {
   "cell_type": "code",
   "execution_count": 5,
   "metadata": {
    "ExecuteTime": {
     "end_time": "2021-04-28T04:06:04.248348Z",
     "start_time": "2021-04-28T04:06:04.231412Z"
    }
   },
   "outputs": [
    {
     "name": "stdout",
     "output_type": "stream",
     "text": [
      "55\n",
      "36\n",
      "30\n"
     ]
    }
   ],
   "source": [
    "## 1~10까지의 숫자을 더하는 반복문 작성\n",
    "#1. 1~10까지 반복객체 생성 [1,2,3,4,5,6,7,8,9,10]\n",
    "#2. 반복문에서는 초기값 설정이 중요 - 수열에서 첫항과 같은 역할\n",
    "#3. 반복문 작성\n",
    "iter_objs = [1,2,3,4,5,6,7,8,9,10] # 반복객체\n",
    "sum_of_iter_obj = 0 # 첫항에 더해야 하기 때문에 0으로 설정\n",
    "for iter_obj in iter_objs:\n",
    "    sum_of_iter_obj = sum_of_iter_obj + iter_obj\n",
    "print(sum_of_iter_obj)\n",
    "    \n",
    "## 1~10까지의 숫자를 사용해 8이하만 더하는 반복문 작성(break사용)\n",
    "iter_objs = [1,2,3,4,5,6,7,8,9,10] # 반복객체\n",
    "sum_of_8_obj = 0 # 첫항에 더해야 하기 때문에 0으로 설정\n",
    "for iter_obj in iter_objs:\n",
    "    if iter_obj > 8:\n",
    "        break\n",
    "    sum_of_8_obj = sum_of_8_obj + iter_obj\n",
    "print(sum_of_8_obj)\n",
    "\n",
    "## 1~10까지의 숫자를 사용해 짝수만 더하는 반복문 작성(continue사용)\n",
    "iter_objs = [1,2,3,4,5,6,7,8,9,10] # 반복객체\n",
    "sum_of_even_obj = 0 # 첫항에 더해야 하기 때문에 0으로 설정\n",
    "for iter_obj in iter_objs:\n",
    "    if iter_obj % 2==1:\n",
    "        continue\n",
    "    sum_of_even_obj = sum_of_even_obj + iter_obj\n",
    "print(sum_of_even_obj)\n",
    "\n",
    "## 1~10까지의 숫자를 사용해 홀수만 더하는 반복문 작성(continue 사용안함)"
   ]
  },
  {
   "cell_type": "markdown",
   "metadata": {},
   "source": [
    "# 반복문"
   ]
  },
  {
   "cell_type": "markdown",
   "metadata": {},
   "source": [
    "## 여러 반복문 1\n",
    "- while 문\n",
    "    - 문법<br>\n",
    "    while 조건식:<br>\n",
    "    <sub>[indent]</sub>수행문장<br>\n",
    "    \n",
    "    - while문은 조건식이 False 이거나 break문을 만날때 까지 반복\n",
    "    - while문의 조건식은 탈출 조건을 주어야 무한 반복을 하지 않는다"
   ]
  },
  {
   "cell_type": "code",
   "execution_count": 6,
   "metadata": {
    "ExecuteTime": {
     "end_time": "2021-04-28T04:06:29.376139Z",
     "start_time": "2021-04-28T04:06:29.370597Z"
    }
   },
   "outputs": [
    {
     "name": "stdout",
     "output_type": "stream",
     "text": [
      "55\n"
     ]
    }
   ],
   "source": [
    "## 1~10까지의 숫자을 더하는 반복문 작성(While문을 사용)\n",
    "sum_of_1_to_10 = 0 # 초기값 설정\n",
    "iter_obj = 1 # 초기 반복자 값 설정\n",
    "while iter_obj < 11:\n",
    "    sum_of_1_to_10 = sum_of_1_to_10 + iter_obj\n",
    "    iter_obj = iter_obj+1\n",
    "print(sum_of_1_to_10)\n",
    "\n",
    "## 1~10까지의 숫자을 더하는 반복문 작성(While과 break사용)"
   ]
  },
  {
   "cell_type": "markdown",
   "metadata": {
    "ExecuteTime": {
     "end_time": "2021-04-28T04:06:34.762804Z",
     "start_time": "2021-04-28T04:06:34.745839Z"
    }
   },
   "source": [
    "## 여러 반복문 2\n",
    "- generator comprehension\n",
    "   - 문장형식<br>\n",
    "   [출력표현식 for 요소 in iterable_object if 조건식] <br>\n",
    "   - 종류<br>\n",
    "    list comprehension <br>\n",
    "    dictionary comprehension <br>\n",
    "    set comprehension <br>"
   ]
  },
  {
   "cell_type": "code",
   "execution_count": 8,
   "metadata": {
    "ExecuteTime": {
     "end_time": "2021-04-28T04:06:44.741995Z",
     "start_time": "2021-04-28T04:06:44.733011Z"
    }
   },
   "outputs": [
    {
     "data": {
      "text/plain": [
       "[2, 4, 6, 8, 10]"
      ]
     },
     "execution_count": 8,
     "metadata": {},
     "output_type": "execute_result"
    }
   ],
   "source": [
    "##  1~10까지의 숫자중 짝수 데이터만 만들기\n",
    "[ iter_obj for iter_obj in [1,2,3,4,5,6,7,8,9,10] if iter_obj % 2 == 0 ]\n",
    "## 1~10까지의 숫자중 짝수 데이터의 제곱 만들기"
   ]
  },
  {
   "cell_type": "markdown",
   "metadata": {},
   "source": [
    "# 함수\n",
    "- 함수 사용방법\n",
    "    - 함수명(입력인수) : 사용하고자 하는 함수를 함수명으로 호출 후 인수가 필요한 함수일 경우 인수값을 사용 \n",
    "- 수학함수와 python 함수의 비교 \n",
    "    - 수학함수 표현<br>\n",
    "    f(x) = x + 1\n",
    "    - pyhon에서 함수 정의<br>\n",
    "      def 함수명(입력인수):<br>\n",
    "      <sub>[indent]</sub>수행문장<br>\n",
    "      <sub>[indent]</sub>return 값<br>\n",
    "    - def : 함수를 지칭하는 키워드\n",
    "    - 함수명 : 함수를 호출하기 위해 사용하는 명시적 변수\n",
    "    - 입력인수 : 수학 함수식에서 f(x)표현시 함수에 사용되는 x값\n",
    "    - return 값 : 함수를 수행 후 반환되는 값\n",
    "- 함수를 만드는 이유\n",
    "    - 함수는 임의의 값을 받아 문장을 수행한 후 결과값을 출력하므로 함수를 이용하면 임의의 값에 대하여 재활용하기 위해 만든다."
   ]
  },
  {
   "cell_type": "code",
   "execution_count": null,
   "metadata": {},
   "outputs": [],
   "source": []
  },
  {
   "cell_type": "code",
   "execution_count": 9,
   "metadata": {
    "ExecuteTime": {
     "end_time": "2021-04-28T04:06:55.397282Z",
     "start_time": "2021-04-28T04:06:55.384161Z"
    }
   },
   "outputs": [
    {
     "name": "stdout",
     "output_type": "stream",
     "text": [
      "11\n"
     ]
    }
   ],
   "source": [
    "## f(x) = x+1을 python의 함수식으로 표현\n",
    "def f(x):\n",
    "    y = x+1\n",
    "    return y\n",
    "\n",
    "print(f(10))\n",
    "## f(x,y) = (x+y)x를 python의 함수식으로 표현"
   ]
  },
  {
   "cell_type": "markdown",
   "metadata": {},
   "source": [
    "## 내장함수 (built-in function)\n",
    "- 주요 내장함수\n",
    "    - len(obj) : obj의 크기를 정수로 출력\n",
    "    - range(start,stop) : 시작숫자 부터 마지막 숫자-1 까지 정수의 iterable 객체 생성\n",
    "    - list(obj) : obj를 리스트 객체로 변환\n",
    "    - enumerate(obj) : obj의 실제값과 인덱스번호를 반환\n",
    "    - zip(obj1,obj2) : iterable한 데이터를 원소의 인덱스 별로 합쳐 새로운 iterable한 객체를 만드는 함수\n",
    "    - map([함수],[데이터객체])\n",
    "    - int :정수형 변환 함수\n",
    "    - float : 실수형 변환 함수\n",
    "    - range(시작 값, 끝값, 등차[step])\n",
    "    \n",
    "    \n",
    "    \n",
    "\n",
    "- 수식함수\n",
    "    - min(obj), max(obj), sum(obj), abs(obj)\n",
    "\n",
    "- 객체에 사용하는 메소드\n",
    "    - append : 리스트 객체에 리스트를 추가 obj.append(new_obj)\n",
    "    - extend : 리스트 객체에 리스트의 원소를 추가 obj.extend(new_obj)\n",
    "    - find : 문자열 객체에서 특정 문자열 찾기 str_obj.find('문자열')\n",
    "    - replace : 문자열 객체에서 특정 문자열 찾아 특정 문자열 바꾸기\n",
    "    "
   ]
  },
  {
   "cell_type": "code",
   "execution_count": 10,
   "metadata": {
    "ExecuteTime": {
     "end_time": "2021-04-28T04:07:06.843804Z",
     "start_time": "2021-04-28T04:07:06.835563Z"
    }
   },
   "outputs": [
    {
     "data": {
      "text/plain": [
       "50.99009900990099"
      ]
     },
     "execution_count": 10,
     "metadata": {},
     "output_type": "execute_result"
    }
   ],
   "source": [
    "##1. range 함수를 사용하여 1,100까지의 정수 객체를 만들고\n",
    "##2. len 함수를 사용하여 생성한 객체의 길이를 출력하고\n",
    "##3. 출력한 길이를 만든 정수 객체에 원소로 추가하여\n",
    "##4. 최소, 최대, 합계, 평균을 구한다.\n",
    "ex = range(1,101)\n",
    "ex = list(ex)\n",
    "length = len(ex)\n",
    "ex.append(length)\n",
    "min(ex)\n",
    "max(ex)\n",
    "sum(ex)\n",
    "sum(ex)/len(ex)"
   ]
  },
  {
   "cell_type": "markdown",
   "metadata": {},
   "source": [
    "#  모듈 임포트\n",
    "- 모듈이란?\n",
    "    - 모듈(Module)은 파이썬 코드를 논리적으로 묶어서 관리하고 사용할 수 있도록 하는 것으로, 보통 하나의 파이썬 . py 파일이 하나의 모듈이 된다. 모듈 안에는 함수, 클래스, 혹은 변수들이 정의될 수 있으며, 실행 코드를 포함할 수도 있다.\n",
    "    \n",
    "- 모듈 임포트 방법\n",
    "    - import modul_name\n",
    "    - import modul_name as md \n",
    "    - from modul_name import *\n",
    "    - from modul_name import modul_function\n",
    "    - from modul_name import modul_function1, modul_funtion2\n",
    "    - from modul_name import modul_function as mf"
   ]
  },
  {
   "cell_type": "code",
   "execution_count": 11,
   "metadata": {
    "ExecuteTime": {
     "end_time": "2021-04-28T04:07:18.461689Z",
     "start_time": "2021-04-28T04:07:18.445695Z"
    }
   },
   "outputs": [
    {
     "data": {
      "text/plain": [
       "[3, 2, 1]"
      ]
     },
     "execution_count": 11,
     "metadata": {},
     "output_type": "execute_result"
    }
   ],
   "source": [
    "## random 모듈의 shuffle 함수를 import \n",
    "import random\n",
    "var = [1,2,3]\n",
    "random.shuffle(var)\n",
    "var\n",
    "## random 모듈의 shuffle 함수를 from 을 사용하여 import "
   ]
  },
  {
   "cell_type": "markdown",
   "metadata": {
    "ExecuteTime": {
     "end_time": "2021-04-28T04:07:22.367918Z",
     "start_time": "2021-04-28T04:07:22.357945Z"
    }
   },
   "source": [
    "# 문자열 처리\n",
    "- 문자열의 구조는 리스트와 유사\n",
    "    - 문자열 추출 대괄호 [index_slicing]를 사용\n",
    "    - 문자열 결합은 '+' 기호를 사용\n",
    "    - 문자열 바꾸기는 바꿀 문자열을 찾아낸 다음에 대체 함수(replace) 사용\n",
    "        - 'xxxxyyxx'의 문자열에서 yy를 zz으로 바꾸기 위한 예시 \n",
    "        'xxxxyyxx'.replace('y','z')"
   ]
  },
  {
   "cell_type": "code",
   "execution_count": 13,
   "metadata": {
    "ExecuteTime": {
     "end_time": "2021-04-28T04:07:32.165017Z",
     "start_time": "2021-04-28T04:07:32.145488Z"
    }
   },
   "outputs": [
    {
     "name": "stdout",
     "output_type": "stream",
     "text": [
      "n\n",
      "i\n"
     ]
    },
    {
     "data": {
      "text/plain": [
       "'ikhbyateurpfmscxwzqgdljvoi'"
      ]
     },
     "execution_count": 13,
     "metadata": {},
     "output_type": "execute_result"
    }
   ],
   "source": [
    "##1. 'abcdefghijklmnopqrstuvwxyz' 객체를 만들고\n",
    "##2. random 하게 값을 추출하기 위해 random 모듈에서 \n",
    "##3. random.shuffle()을 이용해서 만든 객체를 섞어준 다음\n",
    "##4. 그중에 첫번째 문자와 마지막 문자를 찾고\n",
    "##5. 찾은 첫번째 문자가 들어간 부분을 찾아 찾은 마지막 문자로 바꾸기\n",
    "\n",
    "import random  ## random.shuffle() 을 사용하기 위해 라이브러리 임포트\n",
    "str_obj = 'abcdefghijklmnopqrstuvwxyz'\n",
    "str_index = list(range(26))\n",
    "random.shuffle(str_index)\n",
    "chg_obj = ''\n",
    "for i in str_index:\n",
    "    chg_obj=chg_obj+str_obj[i]\n",
    "find_char = chg_obj[0]\n",
    "replace_char = chg_obj[-1]\n",
    "print(find_char)\n",
    "print(replace_char)\n",
    "chg_obj.replace(find_char,replace_char)"
   ]
  }
 ],
 "metadata": {
  "kernelspec": {
   "display_name": "Python 3",
   "language": "python",
   "name": "python3"
  },
  "language_info": {
   "codemirror_mode": {
    "name": "ipython",
    "version": 3
   },
   "file_extension": ".py",
   "mimetype": "text/x-python",
   "name": "python",
   "nbconvert_exporter": "python",
   "pygments_lexer": "ipython3",
   "version": "3.7.9"
  },
  "toc": {
   "base_numbering": 1,
   "nav_menu": {},
   "number_sections": true,
   "sideBar": true,
   "skip_h1_title": false,
   "title_cell": "Table of Contents",
   "title_sidebar": "Contents",
   "toc_cell": false,
   "toc_position": {},
   "toc_section_display": true,
   "toc_window_display": true
  }
 },
 "nbformat": 4,
 "nbformat_minor": 4
}
